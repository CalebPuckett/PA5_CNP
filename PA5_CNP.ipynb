{
 "cells": [
  {
   "cell_type": "code",
   "execution_count": 61,
   "id": "2e5eaadc",
   "metadata": {},
   "outputs": [
    {
     "name": "stdout",
     "output_type": "stream",
     "text": [
      "Enter a Word to Translate from English to Latin (Enter stop to stop): money\n",
      "pecuniam\n",
      "Enter a Word to Translate from English to Latin (Enter stop to stop): heaven\n",
      "caelum\n",
      "Enter a Word to Translate from English to Latin (Enter stop to stop): sword\n",
      "gladius\n",
      "Enter a Word to Translate from English to Latin (Enter stop to stop): law\n",
      "ius\n",
      "Enter a Word to Translate from English to Latin (Enter stop to stop): table\n",
      "mensa\n",
      "Enter a Word to Translate from English to Latin (Enter stop to stop): stop\n"
     ]
    }
   ],
   "source": [
    "Latin_Translator={'man':'vir','woman':'femina','tree':'arbor','river':'flumen','dog':'canis','table':'mensa',\n",
    "                 'king':'rex', 'crown':'corona', 'heaven':'caelum', 'boy':'puer', 'girl':'puella', 'war':'bellum',\n",
    "                 'hero':'heros', 'enemy':'hostis', 'law':'ius', 'tiger':'tigris', 'torch':'lampas', 'sword':'gladius',\n",
    "                 'money':'pecuniam', 'chair':'sella'}\n",
    "\n",
    "word=input('Enter a Word to Translate from English to Latin (Enter stop to stop): ')\n",
    "while True:\n",
    "    if word=='stop':\n",
    "        break\n",
    "    else:\n",
    "        print(Latin_Translator[word])\n",
    "        word=input('Enter a Word to Translate from English to Latin (Enter stop to stop): ')"
   ]
  },
  {
   "cell_type": "code",
   "execution_count": null,
   "id": "3a415a1f",
   "metadata": {},
   "outputs": [],
   "source": []
  },
  {
   "cell_type": "code",
   "execution_count": null,
   "id": "b7d04af1",
   "metadata": {},
   "outputs": [],
   "source": []
  },
  {
   "cell_type": "code",
   "execution_count": 62,
   "id": "736496f4",
   "metadata": {},
   "outputs": [
    {
     "name": "stdout",
     "output_type": "stream",
     "text": [
      "{1: 29.444444444444446, 2: 28.333333333333336, 3: 28.88888888888889, 4: 28.88888888888889, 5: 27.77777777777778, 6: 30.555555555555557, 7: 30.0, 8: 29.444444444444446, 9: 27.222222222222225, 10: 27.77777777777778, 11: 28.88888888888889, 12: 30.555555555555557, 13: 31.666666666666668, 14: 32.22222222222222, 15: 28.88888888888889, 16: 29.444444444444446, 17: 31.666666666666668, 18: 31.666666666666668, 19: 30.0, 20: 25.555555555555557, 21: 25.555555555555557, 22: 21.11111111111111, 23: 21.666666666666668, 24: 23.88888888888889, 25: 25.0, 26: 25.0, 27: 29.444444444444446, 28: 30.555555555555557, 29: 32.77777777777778, 30: 30.0}\n",
      "The Coolest Day in September is:  22\n",
      "The Second Hottest Day in September is:  14\n"
     ]
    }
   ],
   "source": [
    "September_Temperature={1:85,2:83,3:84,4:84,5:82,6:87,7:86,8:85,9:81,10:82,\n",
    "                       11:84,12:87,13:89,14:90,15:84,16:85,17:89,18:89,19:86,20:78,\n",
    "                       21:78,22:70,23:71,24:75,25:77,26:77,27:85,28:87,29:91,30:86}\n",
    "x=list(September_Temperature.values())\n",
    "y=list(September_Temperature.values())\n",
    "for i in September_Temperature:\n",
    "    September_Temperature[i]=(September_Temperature[i]-32)*(5/9)\n",
    "print(September_Temperature)\n",
    "\n",
    "coolest=min(September_Temperature.values())\n",
    "for key in September_Temperature:\n",
    "    if September_Temperature[key]==coolest:\n",
    "        print('The Coolest Day in September is: ', key)\n",
    "Max=(list(sorted(September_Temperature.values()))[-2])\n",
    "for key in September_Temperature:\n",
    "    if September_Temperature[key]==Max:\n",
    "        print('The Second Hottest Day in September is: ', key)"
   ]
  },
  {
   "cell_type": "markdown",
   "id": "020c9ba3",
   "metadata": {},
   "source": [
    "### symmetric difference (^) gives us all the elements in one set but not in both"
   ]
  },
  {
   "cell_type": "code",
   "execution_count": 63,
   "id": "b679ce2b",
   "metadata": {},
   "outputs": [
    {
     "data": {
      "text/plain": [
       "{1, 5, 9, 12}"
      ]
     },
     "execution_count": 63,
     "metadata": {},
     "output_type": "execute_result"
    }
   ],
   "source": [
    "Set1={1,3,5,7,9,11}\n",
    "Set2={3,7,11,12}\n",
    "Set1^Set2"
   ]
  },
  {
   "cell_type": "markdown",
   "id": "cb233129",
   "metadata": {},
   "source": [
    "### .isdisjoint() returns true if there are no similar elements between the sets, else it will return false"
   ]
  },
  {
   "cell_type": "code",
   "execution_count": 66,
   "id": "b3450167",
   "metadata": {},
   "outputs": [
    {
     "data": {
      "text/plain": [
       "True"
      ]
     },
     "execution_count": 66,
     "metadata": {},
     "output_type": "execute_result"
    }
   ],
   "source": [
    "Set1={2,4,6,8}\n",
    "Set2={1,3,5,7}\n",
    "Set1.isdisjoint(Set2)"
   ]
  },
  {
   "cell_type": "code",
   "execution_count": 67,
   "id": "58a2cb8a",
   "metadata": {},
   "outputs": [
    {
     "data": {
      "text/plain": [
       "False"
      ]
     },
     "execution_count": 67,
     "metadata": {},
     "output_type": "execute_result"
    }
   ],
   "source": [
    "Set3={2,4,6,8}\n",
    "Set4={1,3,5,7,8}\n",
    "Set3.isdisjoint(Set4)"
   ]
  },
  {
   "cell_type": "markdown",
   "id": "77522c49",
   "metadata": {},
   "source": [
    "### intersection update (&=) changes a set to include only the values contained in all compared sets"
   ]
  },
  {
   "cell_type": "code",
   "execution_count": 68,
   "id": "d3c01bd6",
   "metadata": {},
   "outputs": [
    {
     "data": {
      "text/plain": [
       "{1, 3, 5, 7}"
      ]
     },
     "execution_count": 68,
     "metadata": {},
     "output_type": "execute_result"
    }
   ],
   "source": [
    "Set5={1,2,3,4,5,6,7}\n",
    "Set6={1,3,5,7}\n",
    "Set5.intersection_update(Set6)\n",
    "Set5"
   ]
  },
  {
   "cell_type": "code",
   "execution_count": 69,
   "id": "f41d2717",
   "metadata": {},
   "outputs": [
    {
     "data": {
      "text/plain": [
       "{1, 3, 5, 7}"
      ]
     },
     "execution_count": 69,
     "metadata": {},
     "output_type": "execute_result"
    }
   ],
   "source": [
    "Set5={1,2,3,4,5,6,7}\n",
    "Set6={1,3,5,7}\n",
    "Set5&=(Set6)\n",
    "Set5"
   ]
  },
  {
   "cell_type": "markdown",
   "id": "2e54efe6",
   "metadata": {},
   "source": [
    "### symmetric difference (^=) gives the numbers contained in the first set but not in the second set"
   ]
  },
  {
   "cell_type": "code",
   "execution_count": 70,
   "id": "5b580e0e",
   "metadata": {},
   "outputs": [
    {
     "data": {
      "text/plain": [
       "{1, 3, 5, 7}"
      ]
     },
     "execution_count": 70,
     "metadata": {},
     "output_type": "execute_result"
    }
   ],
   "source": [
    "Set7={1,2,3,4,5,6,7,8}\n",
    "Set8={2,4,6,8}\n",
    "Set7.symmetric_difference(Set8)"
   ]
  },
  {
   "cell_type": "code",
   "execution_count": 71,
   "id": "7692a388",
   "metadata": {},
   "outputs": [
    {
     "data": {
      "text/plain": [
       "{1, 3, 5, 7}"
      ]
     },
     "execution_count": 71,
     "metadata": {},
     "output_type": "execute_result"
    }
   ],
   "source": [
    "Set7={1,2,3,4,5,6,7,8}\n",
    "Set8={2,4,6,8}\n",
    "Set7^=(Set8)\n",
    "Set7"
   ]
  },
  {
   "cell_type": "markdown",
   "id": "1aa54b26",
   "metadata": {},
   "source": [
    "### discard() and remove() delete a selected element from a set and pop() deletes the first element"
   ]
  },
  {
   "cell_type": "code",
   "execution_count": 72,
   "id": "5240e9fa",
   "metadata": {},
   "outputs": [
    {
     "data": {
      "text/plain": [
       "{1, 2, 3, 4, 6, 7, 8, 9, 10}"
      ]
     },
     "execution_count": 72,
     "metadata": {},
     "output_type": "execute_result"
    }
   ],
   "source": [
    "Set9={1,2,3,4,5,6,7,8,9,10}\n",
    "Set9.discard(5)\n",
    "Set9"
   ]
  },
  {
   "cell_type": "code",
   "execution_count": 73,
   "id": "805f0eb7",
   "metadata": {},
   "outputs": [
    {
     "data": {
      "text/plain": [
       "1"
      ]
     },
     "execution_count": 73,
     "metadata": {},
     "output_type": "execute_result"
    }
   ],
   "source": [
    "Set9.pop()"
   ]
  },
  {
   "cell_type": "code",
   "execution_count": 74,
   "id": "ddcb6461",
   "metadata": {},
   "outputs": [
    {
     "data": {
      "text/plain": [
       "{2, 3, 6, 7, 8, 9, 10}"
      ]
     },
     "execution_count": 74,
     "metadata": {},
     "output_type": "execute_result"
    }
   ],
   "source": [
    "Set9.remove(4)\n",
    "Set9"
   ]
  },
  {
   "cell_type": "markdown",
   "id": "a517f9b7",
   "metadata": {},
   "source": [
    "## Caleb Puckett"
   ]
  },
  {
   "cell_type": "markdown",
   "id": "09c4b3aa",
   "metadata": {},
   "source": [
    "## CS-150"
   ]
  },
  {
   "cell_type": "markdown",
   "id": "9c8133a6",
   "metadata": {},
   "source": [
    "## PA5_CNP"
   ]
  },
  {
   "cell_type": "markdown",
   "id": "16d67f0c",
   "metadata": {},
   "source": [
    "## Fall 2021"
   ]
  }
 ],
 "metadata": {
  "kernelspec": {
   "display_name": "Python 3",
   "language": "python",
   "name": "python3"
  },
  "language_info": {
   "codemirror_mode": {
    "name": "ipython",
    "version": 3
   },
   "file_extension": ".py",
   "mimetype": "text/x-python",
   "name": "python",
   "nbconvert_exporter": "python",
   "pygments_lexer": "ipython3",
   "version": "3.8.8"
  }
 },
 "nbformat": 4,
 "nbformat_minor": 5
}
